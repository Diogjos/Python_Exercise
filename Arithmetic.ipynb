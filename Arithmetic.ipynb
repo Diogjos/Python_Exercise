{
  "nbformat": 4,
  "nbformat_minor": 0,
  "metadata": {
    "colab": {
      "provenance": [],
      "authorship_tag": "ABX9TyOYAGOIrB3RIT5jPhNmFYtS",
      "include_colab_link": true
    },
    "kernelspec": {
      "name": "python3",
      "display_name": "Python 3"
    },
    "language_info": {
      "name": "python"
    }
  },
  "cells": [
    {
      "cell_type": "markdown",
      "metadata": {
        "id": "view-in-github",
        "colab_type": "text"
      },
      "source": [
        "<a href=\"https://colab.research.google.com/github/Diogjos/Python_Exercise/blob/main/Arithmetic.ipynb\" target=\"_parent\"><img src=\"https://colab.research.google.com/assets/colab-badge.svg\" alt=\"Open In Colab\"/></a>"
      ]
    },
    {
      "cell_type": "code",
      "execution_count": null,
      "metadata": {
        "id": "nBfH7Et3ElTZ"
      },
      "outputs": [],
      "source": [
        "n1 = int(input(\"Diga o numero1: \"))\n",
        "n2 = int(input(\"Diga o numero2: \"))\n",
        "\n",
        "print(n1 / n2)\n",
        "print(n1 % n2)"
      ]
    }
  ]
}