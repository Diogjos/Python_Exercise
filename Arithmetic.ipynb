{
  "nbformat": 4,
  "nbformat_minor": 0,
  "metadata": {
    "colab": {
      "provenance": [],
      "authorship_tag": "ABX9TyOYAGOIrB3RIT5jPhNmFYtS",
      "include_colab_link": true
    },
    "kernelspec": {
      "name": "python3",
      "display_name": "Python 3"
    },
    "language_info": {
      "name": "python"
    }
  },
  "cells": [
    {
      "cell_type": "markdown",
      "metadata": {
        "id": "view-in-github",
        "colab_type": "text"
      },
      "source": [
        "<a href=\"https://colab.research.google.com/github/Diogjos/Python_Exercise/blob/main/Arithmetic.ipynb\" target=\"_parent\"><img src=\"https://colab.research.google.com/assets/colab-badge.svg\" alt=\"Open In Colab\"/></a>"
      ]
    },
    {
      "cell_type": "code",
      "execution_count": 1,
      "metadata": {
        "colab": {
          "base_uri": "https://localhost:8080/"
        },
        "id": "nBfH7Et3ElTZ",
        "outputId": "37a2b945-f5ee-4a8c-d09a-01f77bd44040"
      },
      "outputs": [
        {
          "output_type": "stream",
          "name": "stdout",
          "text": [
            "Diga o numero1: 4389574890\n",
            "Diga o numero2: 326897\n",
            "13428.006038599315\n",
            "1974\n"
          ]
        }
      ],
      "source": [
        "n1 = int(input(\"Diga o numero1: \"))\n",
        "n2 = int(input(\"Diga o numero2: \"))\n",
        "\n",
        "print(n1 / n2)\n",
        "print(n1 % n2)"
      ]
    }
  ]
}