{
  "nbformat": 4,
  "nbformat_minor": 0,
  "metadata": {
    "colab": {
      "provenance": [],
      "authorship_tag": "ABX9TyP1IWArhHytC++yqiTrOR26",
      "include_colab_link": true
    },
    "kernelspec": {
      "name": "python3",
      "display_name": "Python 3"
    },
    "language_info": {
      "name": "python"
    }
  },
  "cells": [
    {
      "cell_type": "markdown",
      "metadata": {
        "id": "view-in-github",
        "colab_type": "text"
      },
      "source": [
        "<a href=\"https://colab.research.google.com/github/Diogjos/Python_Exercise/blob/main/Media.ipynb\" target=\"_parent\"><img src=\"https://colab.research.google.com/assets/colab-badge.svg\" alt=\"Open In Colab\"/></a>"
      ]
    },
    {
      "cell_type": "code",
      "execution_count": 2,
      "metadata": {
        "colab": {
          "base_uri": "https://localhost:8080/"
        },
        "id": "Mut-SdrINL5i",
        "outputId": "ecd279dc-6756-4a90-a3cc-7aac55cc29dd"
      },
      "outputs": [
        {
          "output_type": "stream",
          "name": "stdout",
          "text": [
            "Nota 0:7\n",
            "Nota 1:8\n",
            "Nota 2:6\n",
            "Nota 3:7\n",
            "Nota 4:8\n",
            "Nota 0:   7.00\n",
            "Nota 1:   8.00\n",
            "Nota 2:   6.00\n",
            "Nota 3:   7.00\n",
            "Nota 4:   8.00\n",
            "Média:  7.20\n"
          ]
        }
      ],
      "source": [
        "notas = [0,0,0,0,0,0,0]\n",
        "soma = 0\n",
        "x = 0\n",
        "while x < 7:\n",
        "  notas[x] = float(input(f\"Nota {x}:\"))\n",
        "  soma = soma + notas[x]\n",
        "  x = x + 1\n",
        "x = 0\n",
        "while x < 7:\n",
        "  print(f\"Nota {x}: {notas[x]:6.2f}\")\n",
        "  x += 1\n",
        "print(f\"Média: {soma / x:5.2f6}\")"
      ]
    }
  ]
}