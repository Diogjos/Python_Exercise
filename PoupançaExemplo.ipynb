{
  "nbformat": 4,
  "nbformat_minor": 0,
  "metadata": {
    "colab": {
      "provenance": [],
      "authorship_tag": "ABX9TyOelVRT1hynyyt9XF/THRZg",
      "include_colab_link": true
    },
    "kernelspec": {
      "name": "python3",
      "display_name": "Python 3"
    },
    "language_info": {
      "name": "python"
    }
  },
  "cells": [
    {
      "cell_type": "markdown",
      "metadata": {
        "id": "view-in-github",
        "colab_type": "text"
      },
      "source": [
        "<a href=\"https://colab.research.google.com/github/Diogjos/Python_Exercise/blob/main/Poupan%C3%A7aExemplo.ipynb\" target=\"_parent\"><img src=\"https://colab.research.google.com/assets/colab-badge.svg\" alt=\"Open In Colab\"/></a>"
      ]
    },
    {
      "cell_type": "code",
      "execution_count": 5,
      "metadata": {
        "colab": {
          "base_uri": "https://localhost:8080/"
        },
        "id": "_SiKLy-rKZ59",
        "outputId": "981720a9-da31-44e0-a8a7-e35201d6441d"
      },
      "outputs": [
        {
          "output_type": "stream",
          "name": "stdout",
          "text": [
            "Depósito inicial: 100\n",
            "Taxa de juros em numeros decimais: 1.1\n",
            "Mês: 2 ° Total Na conta: 110.00000000000001\n",
            "Mês: 3 ° Total Na conta: 121.00000000000003\n",
            "Mês: 4 ° Total Na conta: 133.10000000000005\n",
            "Mês: 5 ° Total Na conta: 146.41000000000008\n",
            "Mês: 6 ° Total Na conta: 161.0510000000001\n",
            "Mês: 7 ° Total Na conta: 177.15610000000012\n",
            "Mês: 8 ° Total Na conta: 194.87171000000015\n",
            "Mês: 9 ° Total Na conta: 214.3588810000002\n",
            "Mês: 10 ° Total Na conta: 235.79476910000022\n",
            "Mês: 11 ° Total Na conta: 259.37424601000026\n",
            "Mês: 12 ° Total Na conta: 285.3116706110003\n",
            "Mês: 13 ° Total Na conta: 313.84283767210036\n",
            "Mês: 14 ° Total Na conta: 345.2271214393104\n",
            "Mês: 15 ° Total Na conta: 379.74983358324147\n",
            "Mês: 16 ° Total Na conta: 417.7248169415656\n",
            "Mês: 17 ° Total Na conta: 459.49729863572225\n",
            "Mês: 18 ° Total Na conta: 505.4470284992945\n",
            "Mês: 19 ° Total Na conta: 555.991731349224\n",
            "Mês: 20 ° Total Na conta: 611.5909044841464\n",
            "Mês: 21 ° Total Na conta: 672.7499949325611\n",
            "Mês: 22 ° Total Na conta: 740.0249944258172\n",
            "Mês: 23 ° Total Na conta: 814.027493868399\n",
            "Mês: 24 ° Total Na conta: 895.430243255239\n",
            "Mês: 25 ° Total Na conta: 984.973267580763\n"
          ]
        }
      ],
      "source": [
        "depositoInicial = int(input(\"Depósito inicial: \"))\n",
        "taxaJuros = float(input(\"Taxa de juros em numeros decimais: \"))\n",
        "mes = 1\n",
        "while mes <= 24:\n",
        "  depositoInicial = depositoInicial * taxaJuros\n",
        "  mes = mes + 1\n",
        "\n",
        "  print(\"Mês:\",mes,\"°\",\"Total Na conta:\",depositoInicial)"
      ]
    }
  ]
}