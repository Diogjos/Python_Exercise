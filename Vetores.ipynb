{
  "nbformat": 4,
  "nbformat_minor": 0,
  "metadata": {
    "colab": {
      "provenance": [],
      "authorship_tag": "ABX9TyP0UuuNKmmMdmYA3oD0ZbP1",
      "include_colab_link": true
    },
    "kernelspec": {
      "name": "python3",
      "display_name": "Python 3"
    },
    "language_info": {
      "name": "python"
    }
  },
  "cells": [
    {
      "cell_type": "markdown",
      "metadata": {
        "id": "view-in-github",
        "colab_type": "text"
      },
      "source": [
        "<a href=\"https://colab.research.google.com/github/Diogjos/Python_Exercise/blob/main/Vetores.ipynb\" target=\"_parent\"><img src=\"https://colab.research.google.com/assets/colab-badge.svg\" alt=\"Open In Colab\"/></a>"
      ]
    },
    {
      "cell_type": "code",
      "execution_count": 7,
      "metadata": {
        "colab": {
          "base_uri": "https://localhost:8080/"
        },
        "id": "AAacZnnncutF",
        "outputId": "991e4d52-b2c4-4b58-817d-aa6018a56ef4"
      },
      "outputs": [
        {
          "output_type": "stream",
          "name": "stdout",
          "text": [
            "['Diogo', 'Ryan', 'Breno']\n",
            "['diogo6jose7@gmail.com', 'algumemail@gmail.com']\n",
            "['alguma reclamação de alguma coisa', 'Outra recalamção de alguma outra coisa']\n",
            "-----------------------------------------------\n",
            "['Diogo', 'Ryan', 'Breno', 'Zaque']\n",
            "['diogo6jose7@gmail.com', 'algumemail@gmail.com', 'emailcolocando@gmail.com']\n",
            "['alguma reclamação de alguma coisa', 'Outra recalamção de alguma outra coisa', 'mais uma reclamaçao']\n"
          ]
        }
      ],
      "source": [
        "Nomes = ['Diogo', 'Ryan', 'Breno']\n",
        "print(Nomes)\n",
        "\n",
        "Emails = ['diogo6jose7@gmail.com','algumemail@gmail.com']\n",
        "print(Emails)\n",
        "\n",
        "Mensagens = ['alguma reclamação de alguma coisa', 'Outra recalamção de alguma outra coisa']\n",
        "print(Mensagens)\n",
        "\n",
        "print(\"-----------------------------------------------\")\n",
        "\n",
        "Nomes.append(\"Zaque\")\n",
        "Emails.append(\"emailcolocando@gmail.com\")\n",
        "Mensagens.append(\"mais uma reclamaçao\")\n",
        "\n",
        "print(Nomes)\n",
        "\n",
        "print(Emails)\n",
        "\n",
        "print(Mensagens)\n",
        "\n",
        "print(\"------------------------------\")\n",
        "\n"
      ]
    }
  ]
}