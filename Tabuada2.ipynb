{
  "nbformat": 4,
  "nbformat_minor": 0,
  "metadata": {
    "colab": {
      "provenance": [],
      "authorship_tag": "ABX9TyODwXLsg/XPppbpCGmF7jel",
      "include_colab_link": true
    },
    "kernelspec": {
      "name": "python3",
      "display_name": "Python 3"
    },
    "language_info": {
      "name": "python"
    }
  },
  "cells": [
    {
      "cell_type": "markdown",
      "metadata": {
        "id": "view-in-github",
        "colab_type": "text"
      },
      "source": [
        "<a href=\"https://colab.research.google.com/github/Diogjos/Python_Exercise/blob/main/Tabuada2.ipynb\" target=\"_parent\"><img src=\"https://colab.research.google.com/assets/colab-badge.svg\" alt=\"Open In Colab\"/></a>"
      ]
    },
    {
      "cell_type": "code",
      "execution_count": 1,
      "metadata": {
        "colab": {
          "base_uri": "https://localhost:8080/"
        },
        "id": "EqOr67fPAU3Z",
        "outputId": "6e1c7adc-ec66-401c-e8a8-7dbfa891dd80"
      },
      "outputs": [
        {
          "output_type": "stream",
          "name": "stdout",
          "text": [
            "Tabuada de: 2\n",
            "de quanto2\n",
            "até quanto8\n",
            "2 * 2 = 4\n",
            "2 * 3 = 6\n",
            "2 * 4 = 8\n",
            "2 * 5 = 10\n",
            "2 * 6 = 12\n",
            "2 * 7 = 14\n",
            "2 * 8 = 16\n"
          ]
        }
      ],
      "source": [
        "n = int(input(\"Tabuada de: \"))\n",
        "x = int(input(\"de quanto : \"))\n",
        "y = int(input(\"até quanto : \"))\n",
        "while x <= y:\n",
        "  print(n ,\"*\", x , \"=\" , n * x)\n",
        "  x = x + 1"
      ]
    }
  ]
}