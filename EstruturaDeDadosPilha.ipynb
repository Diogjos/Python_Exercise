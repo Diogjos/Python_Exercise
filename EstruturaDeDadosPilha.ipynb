{
  "nbformat": 4,
  "nbformat_minor": 0,
  "metadata": {
    "colab": {
      "provenance": [],
      "authorship_tag": "ABX9TyM5ZSMuoRVxBqF3SMcatfMJ",
      "include_colab_link": true
    },
    "kernelspec": {
      "name": "python3",
      "display_name": "Python 3"
    },
    "language_info": {
      "name": "python"
    }
  },
  "cells": [
    {
      "cell_type": "markdown",
      "metadata": {
        "id": "view-in-github",
        "colab_type": "text"
      },
      "source": [
        "<a href=\"https://colab.research.google.com/github/Diogjos/Python_Exercise/blob/main/EstruturaDeDadosPilha.ipynb\" target=\"_parent\"><img src=\"https://colab.research.google.com/assets/colab-badge.svg\" alt=\"Open In Colab\"/></a>"
      ]
    },
    {
      "cell_type": "code",
      "execution_count": 4,
      "metadata": {
        "colab": {
          "base_uri": "https://localhost:8080/"
        },
        "id": "65y6bKoT2q-R",
        "outputId": "50e4fa46-df45-4b50-d6cb-45e14550da9d"
      },
      "outputs": [
        {
          "output_type": "stream",
          "name": "stdout",
          "text": [
            "\n",
            " Tem 5 pratos na pilha\n",
            "Pilha Atual: [1, 2, 3, 4, 5]\n",
            "Digite E para empilhar um novo prato\n",
            "Digite D para desenpilhar\n",
            "Digite S para parar\n",
            "E, D ou S?E\n",
            "\n",
            " Tem 6 pratos na pilha\n",
            "Pilha Atual: [1, 2, 3, 4, 5, 6]\n",
            "Digite E para empilhar um novo prato\n",
            "Digite D para desenpilhar\n",
            "Digite S para parar\n",
            "E, D ou S?S\n",
            "Encerrado\n"
          ]
        }
      ],
      "source": [
        "# programa - pilha de pratos\n",
        "\n",
        "prato = 5\n",
        "pilha = list(range(1, prato + 1))\n",
        "\n",
        "while True:\n",
        "  print(f\"\\n Tem {len(pilha)} pratos na pilha\")\n",
        "  print(f\"Pilha Atual: {pilha}\")\n",
        "  print(\"Digite E para empilhar um novo prato\")\n",
        "  print(\"Digite D para desenpilhar\")\n",
        "  print(\"Digite S para parar\")\n",
        "  operacao = input(\"E, D ou S?\")\n",
        "  if operacao == \"D\":\n",
        "    if len(pilha) > 0:\n",
        "      lavado = pilha.pop(-1)\n",
        "      print(f\"Prato {lavado} lavado\")\n",
        "    else:\n",
        "      print(f\"Não tem nada para lavar\")\n",
        "  elif operacao == \"E\":\n",
        "    prato += 1\n",
        "    pilha.append(prato)\n",
        "  elif operacao == \"S\":\n",
        "    print(\"Encerrado\")\n",
        "    break\n",
        "  else:\n",
        "    print(\"Operação invpalida! Digte os comandos certos\")\n",
        "\n",
        "\n",
        "\n",
        "\n"
      ]
    }
  ]
}