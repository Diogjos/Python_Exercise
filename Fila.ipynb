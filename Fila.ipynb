{
  "nbformat": 4,
  "nbformat_minor": 0,
  "metadata": {
    "colab": {
      "provenance": [],
      "authorship_tag": "ABX9TyMl6h++UyuUZy0dK2uZrrIB",
      "include_colab_link": true
    },
    "kernelspec": {
      "name": "python3",
      "display_name": "Python 3"
    },
    "language_info": {
      "name": "python"
    }
  },
  "cells": [
    {
      "cell_type": "markdown",
      "metadata": {
        "id": "view-in-github",
        "colab_type": "text"
      },
      "source": [
        "<a href=\"https://colab.research.google.com/github/Diogjos/Python_Exercise/blob/main/Fila.ipynb\" target=\"_parent\"><img src=\"https://colab.research.google.com/assets/colab-badge.svg\" alt=\"Open In Colab\"/></a>"
      ]
    },
    {
      "cell_type": "code",
      "execution_count": 3,
      "metadata": {
        "colab": {
          "base_uri": "https://localhost:8080/"
        },
        "id": "HKez51XRHnKQ",
        "outputId": "32c93d7b-d16e-4e38-e55f-fb7c2fe7a387"
      },
      "outputs": [
        {
          "name": "stdout",
          "output_type": "stream",
          "text": [
            "Digite 1 ou 2 para escolher a fila e 3 para sair.1\n",
            "\n",
            "Existem 10 clientes na fla\n",
            "Fila atual : [1, 2, 3, 4, 5, 6, 7, 8, 9, 10]\n",
            "Digite F para adicionar um cliente ao fim da fila,\n",
            "ou A para realizar o atendimento.  S para sair\n",
            "Operação (F, A ou S):F\n",
            "Operação (F, A ou S):F\n",
            "\n",
            "Existem 11 clientes na fla\n",
            "Fila atual : [1, 2, 3, 4, 5, 6, 7, 8, 9, 10, 11]\n",
            "Digite F para adicionar um cliente ao fim da fila,\n",
            "ou A para realizar o atendimento.  S para sair\n",
            "\n",
            "Existem 12 clientes na fla\n",
            "Fila atual : [1, 2, 3, 4, 5, 6, 7, 8, 9, 10, 11, 12]\n",
            "Digite F para adicionar um cliente ao fim da fila,\n",
            "ou A para realizar o atendimento.  S para sair\n",
            "Operação (F, A ou S):S\n",
            "Digite 1 ou 2 para escolher a fila e 3 para sair.2\n",
            "\n",
            "Existem 10 clientes na fla\n",
            "Fila atual : [1, 2, 3, 4, 5, 6, 7, 8, 9, 10]\n",
            "Digite F para adicionar um cliente ao fim da fila,\n",
            "ou A para realizar o atendimento.  S para sair\n",
            "Operação (F, A ou S):A\n",
            "Cliente 1 atendido\n",
            "\n",
            "Existem 9 clientes na fla\n",
            "Fila atual : [2, 3, 4, 5, 6, 7, 8, 9, 10]\n",
            "Digite F para adicionar um cliente ao fim da fila,\n",
            "ou A para realizar o atendimento.  S para sair\n",
            "Operação (F, A ou S):S\n",
            "Digite 1 ou 2 para escolher a fila e 3 para sair.3\n"
          ]
        }
      ],
      "source": [
        "# Programa Simulação de uma fila do banco\n",
        "ultimo = 10\n",
        "fila = list(range(1, ultimo + 1))\n",
        "fila2 = list(range(1, ultimo + 1))\n",
        "\n",
        "OpçãoDeFila = input(f\"Digite 1 ou 2 para escolher a fila e 3 para sair.\")\n",
        "\n",
        "while OpçãoDeFila == \"1\":\n",
        "    print(f\"\\nExistem {len(fila)} clientes na fila 1\")\n",
        "    print(f\"Fila atual : {fila}\")\n",
        "    print(\"Digite F para adicionar um cliente ao fim da fila,\")\n",
        "    print(\"ou A para realizar o atendimento.  S para sair\")\n",
        "    operação = input(\"Operação (F, A ou S):\")\n",
        "    if operação == \"A\":\n",
        "        if len (fila) > 0:\n",
        "            atendido = fila.pop(0)\n",
        "            print(f\"Cliente {atendido} atendido\")\n",
        "        else:\n",
        "            print(\"Fila vazia! Ningupem para atender. \")\n",
        "    elif operação == \"F\":\n",
        "        ultimo += 1 #Incrementa o ticket do novo cliente\n",
        "        fila.append(ultimo)\n",
        "    elif operação == \"S\":\n",
        "        OpçãoDeFila = input(f\"Digite 1 ou 2 para escolher a fila e 3 para sair.\")\n",
        "    else:\n",
        "        print(\"Operação nvalda! Digite apenas F, A ou S\")\n",
        "\n",
        "while OpçãoDeFila == \"2\":\n",
        "    print(f\"\\nExistem {len(fila2)} clientes na fila 2\")\n",
        "    print(f\"Fila atual : {fila2}\")\n",
        "    print(\"Digite F para adicionar um cliente ao fim da fila,\")\n",
        "    print(\"ou A para realizar o atendimento.  S para sair\")\n",
        "    operação = input(\"Operação (F, A ou S):\")\n",
        "    if operação == \"A\":\n",
        "        if len (fila2) > 0:\n",
        "            atendido = fila2.pop(0)\n",
        "            print(f\"Cliente {atendido} atendido\")\n",
        "        else:\n",
        "            print(\"Fila vazia! Ningupem para atender. \")\n",
        "    elif operação == \"F\":\n",
        "        ultimo += 1 #Incrementa o ticket do novo cliente\n",
        "        fila2.append(ultimo)\n",
        "    elif operação == \"S\":\n",
        "        OpçãoDeFila = input(f\"Digite 1 ou 2 para escolher a fila e 3 para sair.\")\n",
        "    else:\n",
        "        print(\"Operação nvalda! Digite apenas F, A ou S\")\n",
        "\n",
        "while OpçãoDeFila == \"3\":\n",
        "    break\n",
        "\n",
        "\n",
        "\n"
      ]
    }
  ]
}