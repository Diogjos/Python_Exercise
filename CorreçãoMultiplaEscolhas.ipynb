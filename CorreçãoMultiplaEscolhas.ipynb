{
  "nbformat": 4,
  "nbformat_minor": 0,
  "metadata": {
    "colab": {
      "provenance": [],
      "authorship_tag": "ABX9TyORdOZUZrImWAmPJqN68oS/",
      "include_colab_link": true
    },
    "kernelspec": {
      "name": "python3",
      "display_name": "Python 3"
    },
    "language_info": {
      "name": "python"
    }
  },
  "cells": [
    {
      "cell_type": "markdown",
      "metadata": {
        "id": "view-in-github",
        "colab_type": "text"
      },
      "source": [
        "<a href=\"https://colab.research.google.com/github/Diogjos/Python_Exercise/blob/main/Corre%C3%A7%C3%A3oMultiplaEscolhas.ipynb\" target=\"_parent\"><img src=\"https://colab.research.google.com/assets/colab-badge.svg\" alt=\"Open In Colab\"/></a>"
      ]
    },
    {
      "cell_type": "code",
      "execution_count": 1,
      "metadata": {
        "colab": {
          "base_uri": "https://localhost:8080/"
        },
        "id": "btkV5P9tIQkU",
        "outputId": "c77da490-cf71-44e2-85f2-5dcad7cbea66"
      },
      "outputs": [
        {
          "output_type": "stream",
          "name": "stdout",
          "text": [
            "Resposta da questão 1: a\n",
            "Resposta da questão 2: a\n",
            "Resposta da questão 3: c\n",
            "O aluno fez 2 ponto(s)\n"
          ]
        }
      ],
      "source": [
        "pontos = 0\n",
        "questão = 1\n",
        "while questão <= 3:\n",
        "  resposta = input(f\"Resposta da questão {questão}: \")\n",
        "  if questão == 1 and resposta == \"b\":\n",
        "    pontos = pontos + 1\n",
        "  if questão == 2 and resposta == \"a\":\n",
        "    pontos = pontos + 1\n",
        "  if questão == 3 and resposta == \"c\":\n",
        "    pontos = pontos + 1\n",
        "  questão = questão + 1\n",
        "print(f\"O aluno fez {pontos} ponto(s)\")\n",
        ""
      ]
    }
  ]
}